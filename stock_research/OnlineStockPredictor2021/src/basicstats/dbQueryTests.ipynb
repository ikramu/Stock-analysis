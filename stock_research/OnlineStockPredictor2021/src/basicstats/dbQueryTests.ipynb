{
 "metadata": {
  "language_info": {
   "codemirror_mode": {
    "name": "ipython",
    "version": 3
   },
   "file_extension": ".py",
   "mimetype": "text/x-python",
   "name": "python",
   "nbconvert_exporter": "python",
   "pygments_lexer": "ipython3",
   "version": "3.7.3-final"
  },
  "orig_nbformat": 2,
  "kernelspec": {
   "name": "python3",
   "display_name": "Python 3.7.3 64-bit ('anaconda3': virtualenv)",
   "metadata": {
    "interpreter": {
     "hash": "61ed3d88697b33e1090d1b524ac8eb932b91b725375fa19f7ac5b6d2cce1f020"
    }
   }
  }
 },
 "nbformat": 4,
 "nbformat_minor": 2,
 "cells": [
  {
   "cell_type": "code",
   "execution_count": 2,
   "metadata": {},
   "outputs": [],
   "source": [
    "import mysql.connector as conn\n",
    "import pandas as pd\n",
    "import os"
   ]
  },
  {
   "cell_type": "code",
   "execution_count": 5,
   "metadata": {},
   "outputs": [
    {
     "output_type": "stream",
     "name": "stdout",
     "text": [
      "MySQL connection established\n"
     ]
    }
   ],
   "source": [
    "mydb = conn.connect(\n",
    "        host=os.environ['dbHost'],\n",
    "        user=os.environ['dbUser'],\n",
    "        passwd=os.environ['dbPasswd'],\n",
    "        database='se'\n",
    "        )\n",
    "mycursor = mydb.cursor()\n",
    "print('MySQL connection established')"
   ]
  },
  {
   "cell_type": "code",
   "execution_count": 43,
   "metadata": {},
   "outputs": [],
   "source": [
    "batchSize = 200\n",
    "dbTable = 'seTrain'\n",
    "stocks = ['AZN.ST','XSPRAY.ST','SOBI.ST','EKTA-B.ST','GETI-B.ST','XBRANE.ST','ONCO.ST','HNSA.ST','RAY.ST','^OMX']\n",
    "n = (batchSize + 50) * len(stocks)\n",
    "sql = \"SELECT * from `\" + dbTable + \"` where Ticker in ('\" + \"','\".join(stocks) + \"') ORDER BY Datetime DESC limit \" + str(n)\n",
    "res = pd.read_sql(sql, mydb)"
   ]
  },
  {
   "cell_type": "code",
   "execution_count": 44,
   "metadata": {},
   "outputs": [],
   "source": [
    "testDf = res.pivot_table(index='Datetime', columns = 'Ticker')"
   ]
  },
  {
   "cell_type": "code",
   "execution_count": 45,
   "metadata": {},
   "outputs": [],
   "source": [
    "testDf.sort_index(inplace=True, ascending=False)"
   ]
  },
  {
   "cell_type": "code",
   "execution_count": 46,
   "metadata": {},
   "outputs": [],
   "source": [
    "testDf = testDf.iloc[:batchSize, :]"
   ]
  },
  {
   "cell_type": "code",
   "execution_count": 53,
   "metadata": {},
   "outputs": [
    {
     "output_type": "execute_result",
     "data": {
      "text/plain": [
       "Ticker               AZN.ST  EKTA-B.ST  GETI-B.ST  HNSA.ST  ONCO.ST  SOBI.ST  \\\n",
       "Datetime                                                                       \n",
       "2021-03-18 17:29:00   849.4     111.50      235.0    148.7    155.5   143.45   \n",
       "2021-03-18 17:25:00     NaN        NaN        NaN      NaN      NaN      NaN   \n",
       "2021-03-18 17:24:00   849.4     111.30      234.9    148.5    154.8   143.65   \n",
       "2021-03-18 17:23:00   849.0     111.15      234.9    148.7    155.1   143.65   \n",
       "2021-03-18 17:22:00   849.0     111.35      235.0    148.8    155.1   143.70   \n",
       "...                     ...        ...        ...      ...      ...      ...   \n",
       "2021-03-18 14:10:00   845.8     113.25      235.1      NaN      NaN   145.05   \n",
       "2021-03-18 14:09:00   847.0     113.10      235.1      NaN    153.0   145.05   \n",
       "2021-03-18 14:08:00   846.8        NaN      235.2    149.4      NaN   145.25   \n",
       "2021-03-18 14:07:00   846.6     113.15      235.3    149.4    153.4   145.20   \n",
       "2021-03-18 14:06:00   846.4     113.25      235.4      NaN      NaN   145.15   \n",
       "\n",
       "Ticker               XBRANE.ST  XSPRAY.ST     ^OMX  \n",
       "Datetime                                            \n",
       "2021-03-18 17:29:00       95.6      110.5  2180.14  \n",
       "2021-03-18 17:25:00        NaN        NaN  2181.03  \n",
       "2021-03-18 17:24:00       95.0      110.0  2181.13  \n",
       "2021-03-18 17:23:00       95.4      110.0  2180.56  \n",
       "2021-03-18 17:22:00       95.0      110.5  2179.90  \n",
       "...                        ...        ...      ...  \n",
       "2021-03-18 14:10:00        NaN        NaN  2174.93  \n",
       "2021-03-18 14:09:00        NaN        NaN  2175.32  \n",
       "2021-03-18 14:08:00        NaN        NaN  2175.92  \n",
       "2021-03-18 14:07:00        NaN        NaN  2175.44  \n",
       "2021-03-18 14:06:00       96.2        NaN  2175.74  \n",
       "\n",
       "[200 rows x 9 columns]"
      ],
      "text/html": "<div>\n<style scoped>\n    .dataframe tbody tr th:only-of-type {\n        vertical-align: middle;\n    }\n\n    .dataframe tbody tr th {\n        vertical-align: top;\n    }\n\n    .dataframe thead th {\n        text-align: right;\n    }\n</style>\n<table border=\"1\" class=\"dataframe\">\n  <thead>\n    <tr style=\"text-align: right;\">\n      <th>Ticker</th>\n      <th>AZN.ST</th>\n      <th>EKTA-B.ST</th>\n      <th>GETI-B.ST</th>\n      <th>HNSA.ST</th>\n      <th>ONCO.ST</th>\n      <th>SOBI.ST</th>\n      <th>XBRANE.ST</th>\n      <th>XSPRAY.ST</th>\n      <th>^OMX</th>\n    </tr>\n    <tr>\n      <th>Datetime</th>\n      <th></th>\n      <th></th>\n      <th></th>\n      <th></th>\n      <th></th>\n      <th></th>\n      <th></th>\n      <th></th>\n      <th></th>\n    </tr>\n  </thead>\n  <tbody>\n    <tr>\n      <th>2021-03-18 17:29:00</th>\n      <td>849.4</td>\n      <td>111.50</td>\n      <td>235.0</td>\n      <td>148.7</td>\n      <td>155.5</td>\n      <td>143.45</td>\n      <td>95.6</td>\n      <td>110.5</td>\n      <td>2180.14</td>\n    </tr>\n    <tr>\n      <th>2021-03-18 17:25:00</th>\n      <td>NaN</td>\n      <td>NaN</td>\n      <td>NaN</td>\n      <td>NaN</td>\n      <td>NaN</td>\n      <td>NaN</td>\n      <td>NaN</td>\n      <td>NaN</td>\n      <td>2181.03</td>\n    </tr>\n    <tr>\n      <th>2021-03-18 17:24:00</th>\n      <td>849.4</td>\n      <td>111.30</td>\n      <td>234.9</td>\n      <td>148.5</td>\n      <td>154.8</td>\n      <td>143.65</td>\n      <td>95.0</td>\n      <td>110.0</td>\n      <td>2181.13</td>\n    </tr>\n    <tr>\n      <th>2021-03-18 17:23:00</th>\n      <td>849.0</td>\n      <td>111.15</td>\n      <td>234.9</td>\n      <td>148.7</td>\n      <td>155.1</td>\n      <td>143.65</td>\n      <td>95.4</td>\n      <td>110.0</td>\n      <td>2180.56</td>\n    </tr>\n    <tr>\n      <th>2021-03-18 17:22:00</th>\n      <td>849.0</td>\n      <td>111.35</td>\n      <td>235.0</td>\n      <td>148.8</td>\n      <td>155.1</td>\n      <td>143.70</td>\n      <td>95.0</td>\n      <td>110.5</td>\n      <td>2179.90</td>\n    </tr>\n    <tr>\n      <th>...</th>\n      <td>...</td>\n      <td>...</td>\n      <td>...</td>\n      <td>...</td>\n      <td>...</td>\n      <td>...</td>\n      <td>...</td>\n      <td>...</td>\n      <td>...</td>\n    </tr>\n    <tr>\n      <th>2021-03-18 14:10:00</th>\n      <td>845.8</td>\n      <td>113.25</td>\n      <td>235.1</td>\n      <td>NaN</td>\n      <td>NaN</td>\n      <td>145.05</td>\n      <td>NaN</td>\n      <td>NaN</td>\n      <td>2174.93</td>\n    </tr>\n    <tr>\n      <th>2021-03-18 14:09:00</th>\n      <td>847.0</td>\n      <td>113.10</td>\n      <td>235.1</td>\n      <td>NaN</td>\n      <td>153.0</td>\n      <td>145.05</td>\n      <td>NaN</td>\n      <td>NaN</td>\n      <td>2175.32</td>\n    </tr>\n    <tr>\n      <th>2021-03-18 14:08:00</th>\n      <td>846.8</td>\n      <td>NaN</td>\n      <td>235.2</td>\n      <td>149.4</td>\n      <td>NaN</td>\n      <td>145.25</td>\n      <td>NaN</td>\n      <td>NaN</td>\n      <td>2175.92</td>\n    </tr>\n    <tr>\n      <th>2021-03-18 14:07:00</th>\n      <td>846.6</td>\n      <td>113.15</td>\n      <td>235.3</td>\n      <td>149.4</td>\n      <td>153.4</td>\n      <td>145.20</td>\n      <td>NaN</td>\n      <td>NaN</td>\n      <td>2175.44</td>\n    </tr>\n    <tr>\n      <th>2021-03-18 14:06:00</th>\n      <td>846.4</td>\n      <td>113.25</td>\n      <td>235.4</td>\n      <td>NaN</td>\n      <td>NaN</td>\n      <td>145.15</td>\n      <td>96.2</td>\n      <td>NaN</td>\n      <td>2175.74</td>\n    </tr>\n  </tbody>\n</table>\n<p>200 rows × 9 columns</p>\n</div>"
     },
     "metadata": {},
     "execution_count": 53
    }
   ],
   "source": [
    "finalDf = testDf['Close']\n",
    "finalDf"
   ]
  },
  {
   "cell_type": "code",
   "execution_count": 55,
   "metadata": {},
   "outputs": [],
   "source": [
    "finalDf = finalDf.fillna(method='ffill')"
   ]
  },
  {
   "cell_type": "code",
   "execution_count": 58,
   "metadata": {},
   "outputs": [
    {
     "output_type": "execute_result",
     "data": {
      "text/plain": [
       "Ticker               AZN.ST  EKTA-B.ST  GETI-B.ST  HNSA.ST  ONCO.ST  SOBI.ST  \\\n",
       "Datetime                                                                       \n",
       "2021-03-18 14:06:00   846.4     113.25      235.4    149.4    153.4   145.15   \n",
       "2021-03-18 14:07:00   846.6     113.15      235.3    149.4    153.4   145.20   \n",
       "2021-03-18 14:08:00   846.8     113.10      235.2    149.4    153.0   145.25   \n",
       "2021-03-18 14:09:00   847.0     113.10      235.1    149.3    153.0   145.05   \n",
       "2021-03-18 14:10:00   845.8     113.25      235.1    149.3    152.9   145.05   \n",
       "...                     ...        ...        ...      ...      ...      ...   \n",
       "2021-03-18 17:22:00   849.0     111.35      235.0    148.8    155.1   143.70   \n",
       "2021-03-18 17:23:00   849.0     111.15      234.9    148.7    155.1   143.65   \n",
       "2021-03-18 17:24:00   849.4     111.30      234.9    148.5    154.8   143.65   \n",
       "2021-03-18 17:25:00   849.4     111.50      235.0    148.7    155.5   143.45   \n",
       "2021-03-18 17:29:00   849.4     111.50      235.0    148.7    155.5   143.45   \n",
       "\n",
       "Ticker               XBRANE.ST  XSPRAY.ST     ^OMX  \n",
       "Datetime                                            \n",
       "2021-03-18 14:06:00       96.2      112.0  2175.74  \n",
       "2021-03-18 14:07:00       96.0      112.0  2175.44  \n",
       "2021-03-18 14:08:00       96.0      112.0  2175.92  \n",
       "2021-03-18 14:09:00       96.0      112.0  2175.32  \n",
       "2021-03-18 14:10:00       96.0      112.0  2174.93  \n",
       "...                        ...        ...      ...  \n",
       "2021-03-18 17:22:00       95.0      110.5  2179.90  \n",
       "2021-03-18 17:23:00       95.4      110.0  2180.56  \n",
       "2021-03-18 17:24:00       95.0      110.0  2181.13  \n",
       "2021-03-18 17:25:00       95.6      110.5  2181.03  \n",
       "2021-03-18 17:29:00       95.6      110.5  2180.14  \n",
       "\n",
       "[200 rows x 9 columns]"
      ],
      "text/html": "<div>\n<style scoped>\n    .dataframe tbody tr th:only-of-type {\n        vertical-align: middle;\n    }\n\n    .dataframe tbody tr th {\n        vertical-align: top;\n    }\n\n    .dataframe thead th {\n        text-align: right;\n    }\n</style>\n<table border=\"1\" class=\"dataframe\">\n  <thead>\n    <tr style=\"text-align: right;\">\n      <th>Ticker</th>\n      <th>AZN.ST</th>\n      <th>EKTA-B.ST</th>\n      <th>GETI-B.ST</th>\n      <th>HNSA.ST</th>\n      <th>ONCO.ST</th>\n      <th>SOBI.ST</th>\n      <th>XBRANE.ST</th>\n      <th>XSPRAY.ST</th>\n      <th>^OMX</th>\n    </tr>\n    <tr>\n      <th>Datetime</th>\n      <th></th>\n      <th></th>\n      <th></th>\n      <th></th>\n      <th></th>\n      <th></th>\n      <th></th>\n      <th></th>\n      <th></th>\n    </tr>\n  </thead>\n  <tbody>\n    <tr>\n      <th>2021-03-18 14:06:00</th>\n      <td>846.4</td>\n      <td>113.25</td>\n      <td>235.4</td>\n      <td>149.4</td>\n      <td>153.4</td>\n      <td>145.15</td>\n      <td>96.2</td>\n      <td>112.0</td>\n      <td>2175.74</td>\n    </tr>\n    <tr>\n      <th>2021-03-18 14:07:00</th>\n      <td>846.6</td>\n      <td>113.15</td>\n      <td>235.3</td>\n      <td>149.4</td>\n      <td>153.4</td>\n      <td>145.20</td>\n      <td>96.0</td>\n      <td>112.0</td>\n      <td>2175.44</td>\n    </tr>\n    <tr>\n      <th>2021-03-18 14:08:00</th>\n      <td>846.8</td>\n      <td>113.10</td>\n      <td>235.2</td>\n      <td>149.4</td>\n      <td>153.0</td>\n      <td>145.25</td>\n      <td>96.0</td>\n      <td>112.0</td>\n      <td>2175.92</td>\n    </tr>\n    <tr>\n      <th>2021-03-18 14:09:00</th>\n      <td>847.0</td>\n      <td>113.10</td>\n      <td>235.1</td>\n      <td>149.3</td>\n      <td>153.0</td>\n      <td>145.05</td>\n      <td>96.0</td>\n      <td>112.0</td>\n      <td>2175.32</td>\n    </tr>\n    <tr>\n      <th>2021-03-18 14:10:00</th>\n      <td>845.8</td>\n      <td>113.25</td>\n      <td>235.1</td>\n      <td>149.3</td>\n      <td>152.9</td>\n      <td>145.05</td>\n      <td>96.0</td>\n      <td>112.0</td>\n      <td>2174.93</td>\n    </tr>\n    <tr>\n      <th>...</th>\n      <td>...</td>\n      <td>...</td>\n      <td>...</td>\n      <td>...</td>\n      <td>...</td>\n      <td>...</td>\n      <td>...</td>\n      <td>...</td>\n      <td>...</td>\n    </tr>\n    <tr>\n      <th>2021-03-18 17:22:00</th>\n      <td>849.0</td>\n      <td>111.35</td>\n      <td>235.0</td>\n      <td>148.8</td>\n      <td>155.1</td>\n      <td>143.70</td>\n      <td>95.0</td>\n      <td>110.5</td>\n      <td>2179.90</td>\n    </tr>\n    <tr>\n      <th>2021-03-18 17:23:00</th>\n      <td>849.0</td>\n      <td>111.15</td>\n      <td>234.9</td>\n      <td>148.7</td>\n      <td>155.1</td>\n      <td>143.65</td>\n      <td>95.4</td>\n      <td>110.0</td>\n      <td>2180.56</td>\n    </tr>\n    <tr>\n      <th>2021-03-18 17:24:00</th>\n      <td>849.4</td>\n      <td>111.30</td>\n      <td>234.9</td>\n      <td>148.5</td>\n      <td>154.8</td>\n      <td>143.65</td>\n      <td>95.0</td>\n      <td>110.0</td>\n      <td>2181.13</td>\n    </tr>\n    <tr>\n      <th>2021-03-18 17:25:00</th>\n      <td>849.4</td>\n      <td>111.50</td>\n      <td>235.0</td>\n      <td>148.7</td>\n      <td>155.5</td>\n      <td>143.45</td>\n      <td>95.6</td>\n      <td>110.5</td>\n      <td>2181.03</td>\n    </tr>\n    <tr>\n      <th>2021-03-18 17:29:00</th>\n      <td>849.4</td>\n      <td>111.50</td>\n      <td>235.0</td>\n      <td>148.7</td>\n      <td>155.5</td>\n      <td>143.45</td>\n      <td>95.6</td>\n      <td>110.5</td>\n      <td>2180.14</td>\n    </tr>\n  </tbody>\n</table>\n<p>200 rows × 9 columns</p>\n</div>"
     },
     "metadata": {},
     "execution_count": 58
    }
   ],
   "source": [
    "finalDf.sort_index(inplace=True, ascending=True)\n",
    "finalDf"
   ]
  },
  {
   "cell_type": "code",
   "execution_count": null,
   "metadata": {},
   "outputs": [],
   "source": [
    "snapshotDir = '/Users/eullikr/onlineAccounts/github/Stock-analysis/stock_research/OnlineStockPredictor2021/src/results/AZN.ST.TS90.BS200.LookAhead1.2021-03-20_11-22-04/'\n",
    "claArgsPath = os.path.join(snapshotDir, 'programArgs.yaml')\n",
    "\n",
    "with open(claArgsPath, 'r') as ifile:\n",
    "        yaml_dict = yaml.safe_load(ifile)\n",
    "\n",
    "scaledBatch = scaler.transform(newStockBatch.reshape(1,-1))\n"
   ]
  }
 ]
}